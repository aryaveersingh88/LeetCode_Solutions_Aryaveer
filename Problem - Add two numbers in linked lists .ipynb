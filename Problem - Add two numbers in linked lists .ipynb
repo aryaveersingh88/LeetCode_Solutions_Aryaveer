{
 "cells": [
  {
   "cell_type": "markdown",
   "metadata": {},
   "source": [
    "# Problem \n",
    "### You are given two non-empty linked lists representing two non-negative integers. The digits are stored in reverse ## order and each of their nodes contain a single digit. Add the two numbers and return it as a linked list.\n",
    "\n",
    "### You may assume the two numbers do not contain any leading zero, except the number 0 itself.\n",
    "\n",
    "### Example\n",
    "\n",
    "#### Input: (2 -> 4 -> 3) + (5 -> 6 -> 4)\n",
    "#### Output: 7 -> 0 -> 8\n",
    "#### Explanation: 342 + 465 = 807."
   ]
  },
  {
   "cell_type": "code",
   "execution_count": null,
   "metadata": {},
   "outputs": [],
   "source": []
  }
 ],
 "metadata": {
  "kernelspec": {
   "display_name": "Python 3",
   "language": "python",
   "name": "python3"
  },
  "language_info": {
   "codemirror_mode": {
    "name": "ipython",
    "version": 3
   },
   "file_extension": ".py",
   "mimetype": "text/x-python",
   "name": "python",
   "nbconvert_exporter": "python",
   "pygments_lexer": "ipython3",
   "version": "3.6.4"
  }
 },
 "nbformat": 4,
 "nbformat_minor": 2
}
