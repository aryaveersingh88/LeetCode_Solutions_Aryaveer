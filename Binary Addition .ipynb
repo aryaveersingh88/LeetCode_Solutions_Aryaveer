{
 "cells": [
  {
   "cell_type": "markdown",
   "metadata": {},
   "source": [
    "## Given two binary strings, return their sum (also a binary string).\n",
    "\n",
    "## The input strings are both non-empty and contains only characters 1 or 0.\n",
    "\n",
    "## Example 1:\n",
    "\n",
    "## Input: a = \"11\", b = \"1\"\n",
    "Output: \"100\"\n",
    "Example 2:\n",
    "\n",
    "Input: a = \"1010\", b = \"1011\"\n",
    "Output: \"10101\"\n"
   ]
  },
  {
   "cell_type": "markdown",
   "metadata": {},
   "source": [
    "## Accepted Solution"
   ]
  },
  {
   "cell_type": "code",
   "execution_count": null,
   "metadata": {},
   "outputs": [],
   "source": [
    "class Solution:\n",
    "    def addBinary(self, a, b):\n",
    "        \"\"\"\n",
    "        :type a: str\n",
    "        :type b: str\n",
    "        :rtype: str\n",
    "        \"\"\"\n",
    "        def binaryToNum(b):\n",
    "            two_power = 0\n",
    "            sumB = 0 \n",
    "            for i in range(len(b)-1,-1,-1):\n",
    "                sumB = sumB + (int(b[i])) * (2**two_power)\n",
    "                two_power = two_power + 1\n",
    "            return sumB\n",
    "        \n",
    "        def numToBinary(a):\n",
    "            binary_string = ''\n",
    "            if a ==0 : \n",
    "                return '0'\n",
    "            elif a ==1: \n",
    "                binary_string = binary_string + '1'\n",
    "                return binary_string[::-1]\n",
    "            else: \n",
    "                while a > 0:\n",
    "                    binary_char = str(a%2)\n",
    "                    binary_string += binary_char\n",
    "                    a = a//2\n",
    "            \n",
    "            return binary_string[::-1]\n",
    "        \n",
    "        tempNum = binaryToNum(a) + binaryToNum(b)\n",
    "        binary_number =  numToBinary(tempNum)\n",
    "        return binary_number\n",
    "    \n",
    "            \n",
    "            "
   ]
  }
 ],
 "metadata": {
  "kernelspec": {
   "display_name": "Python 3",
   "language": "python",
   "name": "python3"
  },
  "language_info": {
   "codemirror_mode": {
    "name": "ipython",
    "version": 3
   },
   "file_extension": ".py",
   "mimetype": "text/x-python",
   "name": "python",
   "nbconvert_exporter": "python",
   "pygments_lexer": "ipython3",
   "version": "3.6.4"
  }
 },
 "nbformat": 4,
 "nbformat_minor": 2
}
