{
 "cells": [
  {
   "cell_type": "markdown",
   "metadata": {},
   "source": [
    "## Given a 32-bit signed integer, reverse digits of an integer.\n",
    "\n",
    "## Example 1:\n",
    "\n",
    "### Input: 123\n",
    "### Output: 321\n",
    "### Example 2:\n",
    "\n",
    "### Input: -123\n",
    "### Output: -321\n",
    "### Example 3:\n",
    "\n",
    "### Input: 120\n",
    "### Output: 21\n",
    "### Note:\n",
    "### Assume we are dealing with an environment which could only store integers within the 32-bit signed integer range: [−231,  231 − 1]. For the purpose of this problem, assume that your function returns 0 when the reversed integer overflows."
   ]
  },
  {
   "cell_type": "markdown",
   "metadata": {},
   "source": [
    "## Accepted Solution"
   ]
  },
  {
   "cell_type": "code",
   "execution_count": null,
   "metadata": {},
   "outputs": [],
   "source": [
    "class Solution:\n",
    "    def reverse(self,x):\n",
    "        neg_limit= -0x80000000\n",
    "        pos_limit= 0x7fffffff\n",
    "        str_x = str(x)\n",
    "        if x<0:\n",
    "            str_x = '-'+str_x[::-1][:-1]\n",
    "            x = int(str_x)\n",
    "        else:\n",
    "            str_x = str_x[::-1]\n",
    "            x = int(str_x)\n",
    "            \n",
    "\n",
    "        if(x<0):\n",
    "            val=x&neg_limit\n",
    "            if(val==neg_limit):\n",
    "                return x\n",
    "            else:\n",
    "                return 0\n",
    "        elif(x==0):\n",
    "            return x\n",
    "        else:\n",
    "            val = x&pos_limit\n",
    "            if(val==x):\n",
    "                return x\n",
    "            else:\n",
    "                return 0"
   ]
  }
 ],
 "metadata": {
  "kernelspec": {
   "display_name": "Python 3",
   "language": "python",
   "name": "python3"
  },
  "language_info": {
   "codemirror_mode": {
    "name": "ipython",
    "version": 3
   },
   "file_extension": ".py",
   "mimetype": "text/x-python",
   "name": "python",
   "nbconvert_exporter": "python",
   "pygments_lexer": "ipython3",
   "version": "3.6.4"
  }
 },
 "nbformat": 4,
 "nbformat_minor": 2
}
