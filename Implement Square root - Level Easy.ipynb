{
 "cells": [
  {
   "cell_type": "markdown",
   "metadata": {},
   "source": [
    "# My orginal Solution - which timed out "
   ]
  },
  {
   "cell_type": "code",
   "execution_count": 122,
   "metadata": {},
   "outputs": [],
   "source": [
    "class Solution:\n",
    "    def mySqrt(x):\n",
    "        if (x <= 1):\n",
    "            return 0 \n",
    "        else:\n",
    "            prev_num = 0 \n",
    "            j = int(x/2)\n",
    "            #print(j)\n",
    "            sqrt_num = 0\n",
    "            for i in range(1,j+2):\n",
    "                if (i*i > x):\n",
    "                    sqrt_num = prev_num\n",
    "                    break\n",
    "                elif (i*i == x):\n",
    "                    sqrt_num = i \n",
    "                    break \n",
    "                else:\n",
    "                    prev_num = i\n",
    "                            \n",
    "        return sqrt_num\n",
    "            \n",
    "    \n",
    "        \n",
    "        "
   ]
  },
  {
   "cell_type": "markdown",
   "metadata": {},
   "source": [
    "# Accepted solution "
   ]
  },
  {
   "cell_type": "code",
   "execution_count": 123,
   "metadata": {},
   "outputs": [],
   "source": [
    "class Solution:\n",
    "    def mySqrt(self, x):\n",
    "        \"\"\"\n",
    "        :type x: int\n",
    "        :rtype: int\n",
    "        \n",
    "        \"\"\"\n",
    "        return int(x**0.5)"
   ]
  },
  {
   "cell_type": "code",
   "execution_count": null,
   "metadata": {},
   "outputs": [],
   "source": []
  }
 ],
 "metadata": {
  "kernelspec": {
   "display_name": "Python 3",
   "language": "python",
   "name": "python3"
  },
  "language_info": {
   "codemirror_mode": {
    "name": "ipython",
    "version": 3
   },
   "file_extension": ".py",
   "mimetype": "text/x-python",
   "name": "python",
   "nbconvert_exporter": "python",
   "pygments_lexer": "ipython3",
   "version": "3.6.4"
  }
 },
 "nbformat": 4,
 "nbformat_minor": 2
}
